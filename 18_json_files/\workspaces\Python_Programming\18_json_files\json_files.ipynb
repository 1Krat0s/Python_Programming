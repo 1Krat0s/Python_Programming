{
 "cells": [
  {
   "cell_type": "code",
   "execution_count": 3,
   "id": "4f2710b6",
   "metadata": {},
   "outputs": [
    {
     "name": "stdout",
     "output_type": "stream",
     "text": [
      "/workspaces/Python_Programming\n",
      "/workspaces/Python_Programming/02_data_types/\\workspaces\\Python_Programming\\02_data_types\\data_types.ipynb 5292 bytes\n",
      "/workspaces/Python_Programming/11_classes/\\workspaces\\Python_Programming\\classes.ipynb 2336 bytes\n",
      "/workspaces/Python_Programming/05_tuples/\\workspaces\\Python_Programming\\05_tuples\\tuples.ipynb 1687 bytes\n",
      "/workspaces/Python_Programming/06_dictionaries/\\workspaces\\Python_Programming\\06_dictionaries\\dictionariesp2.ipynb 5653 bytes\n",
      "/workspaces/Python_Programming/06_dictionaries/\\workspaces\\Python_Programming\\06_dictionaries\\dictionaries.ipynb 1166 bytes\n",
      "/workspaces/Python_Programming/03_strings/\\workspaces\\Python_Programming\\03_strings\\strings.ipynb 5414 bytes\n",
      "/workspaces/Python_Programming/01_python_basics/\\workspaces\\Python_Programming\\01_python_basics\\python_basics.ipynb 2343 bytes\n",
      "/workspaces/Python_Programming/17_files/\\workspaces\\Python_Programming\\17_files\\files.ipynb 2829 bytes\n",
      "/workspaces/Python_Programming/18_json_files/\\workspaces\\Python_Programming\\18_json_files\\json_files.ipynb 2061 bytes\n",
      "/workspaces/Python_Programming/10_decorators/\\workspaces\\Python_Programming\\10_decorators\\decorators.ipynb 3647 bytes\n"
     ]
    }
   ],
   "source": [
    "# Recursive search\n",
    "\n",
    "from pathlib import Path\n",
    "\n",
    "p = Path(\".\").absolute().parent\n",
    "\n",
    "print(p.absolute())\n",
    "\n",
    "# Find all python files\n",
    "for py_files in p.rglob(\"*.ipynb\"):\n",
    "    print(py_files, py_files.stat().st_size, \"bytes\")"
   ]
  },
  {
   "cell_type": "code",
   "execution_count": 4,
   "id": "f2516f31",
   "metadata": {},
   "outputs": [],
   "source": [
    "# Create a json file\n",
    "import json\n",
    "\n",
    "# Data\n",
    "data = {}\n",
    "data[\"name\"] = \"Bob\"\n",
    "data[\"age\"] = 25\n",
    "data[\"languages\"] = [\"SQL\", \"Java\", \"Python\"]\n",
    "\n",
    "# Write into a json file\n",
    "with open(\"user.json\", \"w\") as file:\n",
    "    json.dump(data, file, indent=4) # indent - pretty print\n"
   ]
  },
  {
   "cell_type": "code",
   "execution_count": 6,
   "id": "98a269eb",
   "metadata": {},
   "outputs": [
    {
     "name": "stdout",
     "output_type": "stream",
     "text": [
      "{'name': 'Bob', 'age': 25, 'languages': ['SQL', 'Java', 'Python']}\n",
      "Bob\n"
     ]
    }
   ],
   "source": [
    "# Read from a json file\n",
    "import json\n",
    "with open (\"user.json\", \"r\") as file:\n",
    "    data = json.load(file)\n",
    "\n",
    "# Access data\n",
    "print(data)\n",
    "print(data.get(\"name\", \"not found\"))\n"
   ]
  },
  {
   "cell_type": "code",
   "execution_count": 10,
   "id": "84eb1c1e",
   "metadata": {},
   "outputs": [
    {
     "name": "stdout",
     "output_type": "stream",
     "text": [
      "{'name': 'Bob', 'age': 25, 'languages': ['SQL', 'Java', 'Python'], 'hello': <__main__.Hello object at 0x7169c8fefc20>}\n"
     ]
    }
   ],
   "source": [
    "# Create a json file\n",
    "import json\n",
    "\n",
    "class Hello:\n",
    "    def __init__(self):\n",
    "        self.msg = \"Hello\"\n",
    "\n",
    "    def __str__(self):\n",
    "        return self.msg\n",
    "\n",
    "class HelloEncoder(json.JSONEncoder):\n",
    "    def default(self, obj):\n",
    "        if isinstance(obj, Hello):\n",
    "            return {\"class\" : \"Hello\", \"message\" : obj.__str__()}\n",
    "        return super().default(obj)\n",
    "\n",
    "# Data\n",
    "data = {}\n",
    "data[\"name\"] = \"Bob\"\n",
    "data[\"age\"] = 25\n",
    "data[\"languages\"] = [\"SQL\", \"Java\", \"Python\"]\n",
    "data[\"hello\"] = Hello()\n",
    "\n",
    "# Write into a json file\n",
    "with open(\"user.json\", \"w\") as file:\n",
    "    json.dump(data, file, indent=4, cls=HelloEncoder) # indent - pretty print\n",
    "\n",
    "# deserealization (decoding)\n",
    "def hello_decoder(obj):\n",
    "    if isinstance(obj, dict):\n",
    "        cl = obj.get(\"class\", None)\n",
    "        if cl and cl == \"Hello\":\n",
    "            return Hello()\n",
    "    return obj\n",
    "\n",
    "with open (\"user.json\", \"r\") as file:\n",
    "    data = json.load(file, object_hook=hello_decoder)\n",
    "\n",
    "print(data)"
   ]
  },
  {
   "cell_type": "code",
   "execution_count": null,
   "id": "8bd89d55",
   "metadata": {},
   "outputs": [
    {
     "name": "stdout",
     "output_type": "stream",
     "text": [
      "['Romaguera-Crona', 'Deckow-Crist', 'Romaguera-Jacobson', 'Robel-Corkery', 'Keebler LLC', 'Considine-Lockman', 'Johns Group', 'Abernathy Group', 'Yost and Sons', 'Hoeger LLC']\n"
     ]
    }
   ],
   "source": [
    "# Perform a request to a website\n",
    "import requests\n",
    "import json\n",
    "\n",
    "response = requests.get(\"https://jsonplaceholder.typicode.com/users\")\n",
    "\n",
    "# print(response.json())\n",
    "\n",
    "with open(\"response.json\", \"w\") as file:\n",
    "    json.dump(response.json(), file, indent=4)\n",
    "\n",
    "# TODO\n",
    "# Read the info from response.json\n",
    "# print the list of company names\n",
    "\n",
    "with open (\"response.json\", \"r\") as file:\n",
    "    data = json.load(file)\n",
    "\n",
    "company_names = []\n",
    "for user in data:\n",
    "    if isinstance(user, dict) and 'company' in user and isinstance(user['company'], dict) and 'name' in user['company']:\n",
    "        company_names.append(user['company']['name'])\n",
    "\n",
    "print(company_names)\n"
   ]
  },
  {
   "cell_type": "code",
   "execution_count": null,
   "id": "9b0e9657",
   "metadata": {},
   "outputs": [],
   "source": []
  }
 ],
 "metadata": {
  "kernelspec": {
   "display_name": "Python 3",
   "language": "python",
   "name": "python3"
  },
  "language_info": {
   "codemirror_mode": {
    "name": "ipython",
    "version": 3
   },
   "file_extension": ".py",
   "mimetype": "text/x-python",
   "name": "python",
   "nbconvert_exporter": "python",
   "pygments_lexer": "ipython3",
   "version": "3.12.1"
  }
 },
 "nbformat": 4,
 "nbformat_minor": 5
}
