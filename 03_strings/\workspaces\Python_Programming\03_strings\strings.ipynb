{
 "cells": [
  {
   "cell_type": "code",
   "execution_count": null,
   "id": "510d8719",
   "metadata": {},
   "outputs": [
    {
     "name": "stdout",
     "output_type": "stream",
     "text": [
      "14\n"
     ]
    }
   ],
   "source": [
    "# len function - returns the number of elements in the string\n",
    "\n",
    "text = \"Hello, Python!\"\n",
    "length = len(text)\n",
    "print(length)"
   ]
  },
  {
   "cell_type": "code",
   "execution_count": 3,
   "id": "40c6af82",
   "metadata": {},
   "outputs": [
    {
     "name": "stdout",
     "output_type": "stream",
     "text": [
      "K\n",
      "n\n",
      "n\n",
      "t\n"
     ]
    }
   ],
   "source": [
    "# Access string elements\n",
    "name = \"Konstantin\"\n",
    "print(name[0])\n",
    "print(name[2])\n",
    "\n",
    "# Use negative indices\n",
    "print(name[-1]) # the last character of the string\n",
    "\n",
    "print(name[-3]) "
   ]
  },
  {
   "cell_type": "code",
   "execution_count": 10,
   "id": "1fec4c9f",
   "metadata": {},
   "outputs": [
    {
     "name": "stdout",
     "output_type": "stream",
     "text": [
      "Python\n",
      "Pyt\n",
      "thon\n",
      "thon\n",
      "Pytho\n"
     ]
    }
   ],
   "source": [
    "# string slicing\n",
    "#specify the start and the end of the slice\n",
    "language = \"Pytnon\"\n",
    "language = language.replace(\"n\", \"h\", 1)\n",
    "print(language)\n",
    "print(language[0 : 3])\n",
    "\n",
    "# What is the output\n",
    "print(language[2 : len(language)])\n",
    "print(language[2 : ])\n",
    "print(language[ : 5])\n"
   ]
  },
  {
   "cell_type": "code",
   "execution_count": null,
   "id": "8f557687",
   "metadata": {},
   "outputs": [
    {
     "name": "stdout",
     "output_type": "stream",
     "text": [
      "hon\n",
      "Pto\n",
      "nhy\n",
      "nohtyP\n"
     ]
    }
   ],
   "source": [
    "# you can use negative indices\n",
    "language = \"Python\"\n",
    "\n",
    "print(language[-3 : ])\n",
    "\n",
    "# specify the step \n",
    "print(language[ : :2]) # Prints every second character from the first character\n",
    "print(language[ : :-2]) # Prints every second character from the last character\n",
    "\n",
    "#reverse a string\n",
    "print(language[ : :-1])\n"
   ]
  },
  {
   "cell_type": "code",
   "execution_count": 19,
   "id": "62e7f59b",
   "metadata": {},
   "outputs": [
    {
     "name": "stdout",
     "output_type": "stream",
     "text": [
      "56789\n",
      "12389\n"
     ]
    }
   ],
   "source": [
    "text = \"123456789\"\n",
    "\n",
    "#print the second half of text\n",
    "print(text[len(text) // 2 :])\n",
    "\n",
    "#print the first three characters + last two characters\n",
    "print(text[0 : 3] + text[-2 : ])\n"
   ]
  },
  {
   "cell_type": "code",
   "execution_count": 23,
   "id": "20d3700f",
   "metadata": {},
   "outputs": [
    {
     "name": "stdout",
     "output_type": "stream",
     "text": [
      "Toyota\n",
      "BMW\n",
      "AUDI\n",
      "Volkswagen\n",
      "Nissan\n"
     ]
    }
   ],
   "source": [
    "# split\n",
    "makes = \"toyota, bmw, audi, volkswagen, nissan\"\n",
    "\n",
    "car_makes = makes.split(\",\") # car_makes is a list of strings\n",
    "\n",
    "# iterate through the list\n",
    "for make in car_makes:\n",
    "    make = make.lstrip()\n",
    "    if make == \"bmw\" or make == \"audi\":\n",
    "        print(make.upper())\n",
    "    else:\n",
    "        print(make.title())\n"
   ]
  },
  {
   "cell_type": "code",
   "execution_count": 1,
   "id": "6b148071",
   "metadata": {},
   "outputs": [
    {
     "name": "stdout",
     "output_type": "stream",
     "text": [
      "Toyota\n",
      "BMW\n",
      "AUDI\n",
      "Volkswagen\n",
      "Nissan\n"
     ]
    }
   ],
   "source": [
    "makes = \"toyota, bmw, audi, volkswagen, nissan\"\n",
    "\n",
    "car_makes = makes.split(\",\") # car_makes is a list of strings\n",
    "\n",
    "# iterate through the list\n",
    "for make in car_makes:\n",
    "    make = make.lstrip()\n",
    "    if make in [\"bmw\", \"audi\"]:\n",
    "        print(make.upper())\n",
    "    else:\n",
    "        print(make.title())"
   ]
  },
  {
   "cell_type": "code",
   "execution_count": 8,
   "id": "58b9bc3f",
   "metadata": {},
   "outputs": [
    {
     "name": "stdout",
     "output_type": "stream",
     "text": [
      "1\n",
      "3\n",
      "5\n",
      "7\n",
      "9\n",
      "1\n",
      "5\n",
      "9\n",
      "13\n",
      "17\n"
     ]
    }
   ],
   "source": [
    "# for loop\n",
    "# range() BIF\n",
    "for i in range(1, 10, 2): # 3rd number specifies the slice\n",
    "    print(i)\n",
    "\n",
    "# print all the squares from 1 to 20\n",
    "for i in range(1, 21, 2**2):\n",
    "    print(i)\n"
   ]
  },
  {
   "cell_type": "code",
   "execution_count": null,
   "id": "82a94123",
   "metadata": {},
   "outputs": [],
   "source": []
  }
 ],
 "metadata": {
  "kernelspec": {
   "display_name": "Python 3",
   "language": "python",
   "name": "python3"
  },
  "language_info": {
   "codemirror_mode": {
    "name": "ipython",
    "version": 3
   },
   "file_extension": ".py",
   "mimetype": "text/x-python",
   "name": "python",
   "nbconvert_exporter": "python",
   "pygments_lexer": "ipython3",
   "version": "3.12.1"
  }
 },
 "nbformat": 4,
 "nbformat_minor": 5
}
