{
 "cells": [
  {
   "cell_type": "code",
   "execution_count": 2,
   "id": "78e52873",
   "metadata": {},
   "outputs": [
    {
     "name": "stdout",
     "output_type": "stream",
     "text": [
      "35\n",
      "8\n",
      "64\n"
     ]
    }
   ],
   "source": [
    "#int function\n",
    "print(int(35.4))\n",
    "print(int(\"1000\", 2))\n",
    "print(int(\"100\", 8))"
   ]
  },
  {
   "cell_type": "code",
   "execution_count": null,
   "id": "a009c7fc",
   "metadata": {},
   "outputs": [
    {
     "name": "stdout",
     "output_type": "stream",
     "text": [
      "True\n",
      "False\n",
      "True\n",
      "False\n",
      "True\n",
      "False\n",
      "True\n"
     ]
    }
   ],
   "source": [
    "# bool function (True, False)\n",
    "print(bool(True))\n",
    "print(bool(0))\n",
    "print(bool(-1)) # any nonzero int is counted as true\n",
    "print(bool(not True))\n",
    "print(bool(True and True))\n",
    "print(bool(True and False))\n",
    "print(bool(True or False))"
   ]
  },
  {
   "cell_type": "code",
   "execution_count": 5,
   "id": "e0d537b9",
   "metadata": {},
   "outputs": [
    {
     "name": "stdout",
     "output_type": "stream",
     "text": [
      "0.30000000000000004\n"
     ]
    }
   ],
   "source": [
    "# floats\n",
    "n2 = .1\n",
    "print(n2 + n2 + n2)"
   ]
  },
  {
   "cell_type": "code",
   "execution_count": 1,
   "id": "61b68555",
   "metadata": {},
   "outputs": [
    {
     "name": "stdout",
     "output_type": "stream",
     "text": [
      "0.3\n"
     ]
    }
   ],
   "source": [
    "# decimal\n",
    "from decimal import Decimal\n",
    "\n",
    "d = Decimal(\"0.1\") + Decimal(\"0.1\") + Decimal(\"0.1\")\n",
    "print(d)"
   ]
  },
  {
   "cell_type": "code",
   "execution_count": null,
   "id": "739b6054",
   "metadata": {},
   "outputs": [
    {
     "name": "stdout",
     "output_type": "stream",
     "text": [
      "['__add__', '__class__', '__contains__', '__delattr__', '__dir__', '__doc__', '__eq__', '__format__', '__ge__', '__getattribute__', '__getitem__', '__getnewargs__', '__getstate__', '__gt__', '__hash__', '__init__', '__init_subclass__', '__iter__', '__le__', '__len__', '__lt__', '__mod__', '__mul__', '__ne__', '__new__', '__reduce__', '__reduce_ex__', '__repr__', '__rmod__', '__rmul__', '__setattr__', '__sizeof__', '__str__', '__subclasshook__', 'capitalize', 'casefold', 'center', 'count', 'encode', 'endswith', 'expandtabs', 'find', 'format', 'format_map', 'index', 'isalnum', 'isalpha', 'isascii', 'isdecimal', 'isdigit', 'isidentifier', 'islower', 'isnumeric', 'isprintable', 'isspace', 'istitle', 'isupper', 'join', 'ljust', 'lower', 'lstrip', 'maketrans', 'partition', 'removeprefix', 'removesuffix', 'replace', 'rfind', 'rindex', 'rjust', 'rpartition', 'rsplit', 'rstrip', 'split', 'splitlines', 'startswith', 'strip', 'swapcase', 'title', 'translate', 'upper', 'zfill']\n"
     ]
    }
   ],
   "source": [
    "# dir built-in function\n",
    "print(dir(str))\n",
    "print(dir(int))"
   ]
  },
  {
   "cell_type": "code",
   "execution_count": 3,
   "id": "1bfb2f3f",
   "metadata": {},
   "outputs": [
    {
     "name": "stdout",
     "output_type": "stream",
     "text": [
      "Help on method_descriptor:\n",
      "\n",
      "strip(self, chars=None, /)\n",
      "    Return a copy of the string with leading and trailing whitespace removed.\n",
      "\n",
      "    If chars is given and not None, remove characters in chars instead.\n",
      "\n"
     ]
    }
   ],
   "source": [
    "# help BIF\n",
    "help(str.strip)"
   ]
  },
  {
   "cell_type": "code",
   "execution_count": 5,
   "id": "e80a433e",
   "metadata": {},
   "outputs": [
    {
     "name": "stdout",
     "output_type": "stream",
     "text": [
      "'Hello'\n"
     ]
    }
   ],
   "source": [
    "# strip method\n",
    "text = \"     Hello     \"\n",
    "print(\"'\" + text.strip() + \"'\")"
   ]
  },
  {
   "cell_type": "code",
   "execution_count": 6,
   "id": "8bd5b0a0",
   "metadata": {},
   "outputs": [
    {
     "name": "stdout",
     "output_type": "stream",
     "text": [
      "I love Java\n"
     ]
    }
   ],
   "source": [
    "# replace\n",
    "msg = \"I love Python\"\n",
    "print(msg.replace(\"Python\", \"Java\"))"
   ]
  },
  {
   "cell_type": "code",
   "execution_count": 8,
   "id": "0e8c0330",
   "metadata": {},
   "outputs": [
    {
     "name": "stdout",
     "output_type": "stream",
     "text": [
      "Justin Bryant\n"
     ]
    }
   ],
   "source": [
    "# f-strings practice\n",
    "\n",
    "first_name = \"justin\"\n",
    "last_name = \"bryant\"\n",
    "\n",
    "full_name = f\"{first_name} {last_name}\"\n",
    "print(full_name.title())"
   ]
  },
  {
   "cell_type": "code",
   "execution_count": null,
   "id": "87e28d20",
   "metadata": {},
   "outputs": [],
   "source": []
  }
 ],
 "metadata": {
  "kernelspec": {
   "display_name": "Python 3",
   "language": "python",
   "name": "python3"
  },
  "language_info": {
   "codemirror_mode": {
    "name": "ipython",
    "version": 3
   },
   "file_extension": ".py",
   "mimetype": "text/x-python",
   "name": "python",
   "nbconvert_exporter": "python",
   "pygments_lexer": "ipython3",
   "version": "3.12.1"
  }
 },
 "nbformat": 4,
 "nbformat_minor": 5
}
