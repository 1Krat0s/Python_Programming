{
 "cells": [
  {
   "cell_type": "code",
   "execution_count": 2,
   "id": "12aa11f2",
   "metadata": {},
   "outputs": [
    {
     "name": "stdout",
     "output_type": "stream",
     "text": [
      "Woof! Woof!\n"
     ]
    }
   ],
   "source": [
    "# Dog class\n",
    "\n",
    "class Dog:\n",
    "    def bark(self): # instance method\n",
    "        return \"Woof! Woof!\"\n",
    "\n",
    "# Create an instance of Dog\n",
    "my_dog = Dog()\n",
    "\n",
    "# Call bark method\n",
    "print(my_dog.bark())"
   ]
  },
  {
   "cell_type": "code",
   "execution_count": null,
   "id": "a15f4b43",
   "metadata": {},
   "outputs": [
    {
     "name": "stdout",
     "output_type": "stream",
     "text": [
      "100\n"
     ]
    }
   ],
   "source": [
    "class Square:\n",
    "    side = 8\n",
    "    # Create an instance method are\n",
    "    def area(self):\n",
    "        return self.side * self.side\n",
    "    \n",
    "# Create an instance of Square\n",
    "s1 = Square()\n",
    "s1.side = 10\n",
    "\n",
    "# Print the area\n",
    "print(s1.area())"
   ]
  },
  {
   "cell_type": "code",
   "execution_count": 3,
   "id": "5a1a8979",
   "metadata": {},
   "outputs": [
    {
     "name": "stdout",
     "output_type": "stream",
     "text": [
      "Leopold\n"
     ]
    }
   ],
   "source": [
    "# __init__ method (constructor)\n",
    "# use it to initialize the properties of a new object\n",
    "class Cat:\n",
    "    def __init__(self, name):\n",
    "        self.name = name\n",
    "\n",
    "leopold = Cat(\"Leopold\")\n",
    "print(leopold.name)\n"
   ]
  },
  {
   "cell_type": "code",
   "execution_count": null,
   "id": "81fb6a89",
   "metadata": {},
   "outputs": [],
   "source": [
    "# Practice\n",
    "\n",
    "class Car:\n",
    "    def __init__(self, model):\n",
    "        self.model() = model\n",
    "\n",
    "    "
   ]
  }
 ],
 "metadata": {
  "kernelspec": {
   "display_name": "Python 3",
   "language": "python",
   "name": "python3"
  },
  "language_info": {
   "codemirror_mode": {
    "name": "ipython",
    "version": 3
   },
   "file_extension": ".py",
   "mimetype": "text/x-python",
   "name": "python",
   "nbconvert_exporter": "python",
   "pygments_lexer": "ipython3",
   "version": "3.12.1"
  }
 },
 "nbformat": 4,
 "nbformat_minor": 5
}
